{
  "nbformat": 4,
  "nbformat_minor": 0,
  "metadata": {
    "colab": {
      "provenance": []
    },
    "kernelspec": {
      "name": "python3",
      "display_name": "Python 3"
    },
    "language_info": {
      "name": "python"
    }
  },
  "cells": [
    {
      "cell_type": "code",
      "execution_count": 3,
      "metadata": {
        "colab": {
          "base_uri": "https://localhost:8080/",
          "height": 0
        },
        "id": "P_HqfB9FjjJs",
        "outputId": "f4d89592-e1df-4fc2-b0ec-7e8d0ce966b8"
      },
      "outputs": [
        {
          "output_type": "stream",
          "name": "stdout",
          "text": [
            "Mounted at /content/drive\n"
          ]
        }
      ],
      "source": [
        "from google.colab import drive\n",
        "# Mount Google Drive\n",
        "drive.mount('/content/drive')"
      ]
    },
    {
      "cell_type": "code",
      "source": [
        "import pandas as pd\n",
        "\n",
        "# Load your CSV file from Google Drive\n",
        "file_path = '/content/drive/MyDrive/kiwisaver_sample_wk9.csv'\n",
        "data = pd.read_csv(file_path)\n",
        "\n",
        "# Display the data\n",
        "print(data.head())\n"
      ],
      "metadata": {
        "colab": {
          "base_uri": "https://localhost:8080/",
          "height": 0
        },
        "id": "2VCeREH4l0Gs",
        "outputId": "a536105e-eb29-4518-af49-71134564ad9d"
      },
      "execution_count": 4,
      "outputs": [
        {
          "output_type": "stream",
          "name": "stdout",
          "text": [
            "                                       Name  \\\n",
            "0             AMP IL no E Fee NZ Share (RN)   \n",
            "1        AMP KiwiSaver AMP Income Generator   \n",
            "2           AMP KiwiSaver ANZ Balanced Plus   \n",
            "3            AMP Prem PSS OnePath NZ Shares   \n",
            "4  ANZ Default KiwiSaver Scheme Cnsrv(Dflt)   \n",
            "\n",
            "                             Firm Name Branding Name  Holdings  \\\n",
            "0                            AMP Group           AMP        59   \n",
            "1                            AMP Group           AMP       689   \n",
            "2                            AMP Group           AMP      1544   \n",
            "3                            AMP Group           AMP       125   \n",
            "4  ANZ New Zealand Investments Limited           ANZ      1024   \n",
            "\n",
            "                  Global Category  Morningstar Rating     Domicile  \\\n",
            "0              New Zealand Equity                 3.0  New Zealand   \n",
            "1             Moderate Allocation                 NaN  New Zealand   \n",
            "2           Aggressive Allocation                 3.0  New Zealand   \n",
            "3  Australia & New Zealand Equity                 3.0  New Zealand   \n",
            "4             Cautious Allocation                 4.0  New Zealand   \n",
            "\n",
            "            Fund Legal Structure  Equity Style Inception Date   Manager Name  \\\n",
            "0  Open Ended Investment Company    Mid Growth      3/02/1993            NaN   \n",
            "1  Open Ended Investment Company     Mid Blend     28/07/2016            NaN   \n",
            "2  Open Ended Investment Company  Large Growth      1/10/2007            NaN   \n",
            "3  Open Ended Investment Company    Mid Growth      9/08/2004            NaN   \n",
            "4  Open Ended Investment Company    Mid Growth      1/10/2007  Stuart Millar   \n",
            "\n",
            "   Manager Tenure Net Assets Date  Net Assets Size  Net Assets Share Class  \n",
            "0             NaN             NaN       135202.500               81121.500  \n",
            "1             NaN      28/02/2017          861.923                 517.154  \n",
            "2             NaN      28/02/2017       146665.955               87999.573  \n",
            "3             NaN      28/02/2017         3176.420                1905.852  \n",
            "4            9.42      15/03/2017       705818.111              423490.867  \n"
          ]
        }
      ]
    },
    {
      "cell_type": "markdown",
      "source": [
        "**Task 1: Inspecting your Data. read and disect your datafile \"kiwisaver_sample_wk9.csv\" to figure out list of all possible dirty data problems in your data.**"
      ],
      "metadata": {
        "id": "S6d-FcAjnVPU"
      }
    },
    {
      "cell_type": "markdown",
      "source": [
        "Lets see if we have any missing values or not"
      ],
      "metadata": {
        "id": "CJjf4tZwoypK"
      }
    },
    {
      "cell_type": "code",
      "source": [
        "# Check for missing values in each column\n",
        "missing_values = data.isnull().sum()\n",
        "\n",
        "# Display columns with missing values and their counts\n",
        "print(missing_values[missing_values > 0])\n"
      ],
      "metadata": {
        "colab": {
          "base_uri": "https://localhost:8080/",
          "height": 0
        },
        "id": "YE1uxkYunbQC",
        "outputId": "22a14305-4cea-4868-9e77-0cbf0dc641c7"
      },
      "execution_count": 5,
      "outputs": [
        {
          "output_type": "stream",
          "name": "stdout",
          "text": [
            "Morningstar Rating    36\n",
            "Manager Name          43\n",
            "Manager Tenure        43\n",
            "Net Assets Date        1\n",
            "dtype: int64\n"
          ]
        }
      ]
    },
    {
      "cell_type": "markdown",
      "source": [
        "Lets see if there are any duplicates"
      ],
      "metadata": {
        "id": "pZoxSx-Lp6cJ"
      }
    },
    {
      "cell_type": "code",
      "source": [
        "# Check for duplicates in the dataset\n",
        "duplicate_rows = data.duplicated().sum()\n",
        "print(f\"Number of duplicate rows: {duplicate_rows}\")"
      ],
      "metadata": {
        "colab": {
          "base_uri": "https://localhost:8080/",
          "height": 0
        },
        "id": "xIOAA8Cjp-oS",
        "outputId": "ed7fbe1d-ff7c-467a-d15f-3c1c6660f694"
      },
      "execution_count": 6,
      "outputs": [
        {
          "output_type": "stream",
          "name": "stdout",
          "text": [
            "Number of duplicate rows: 0\n"
          ]
        }
      ]
    },
    {
      "cell_type": "markdown",
      "source": [
        "There are no duplicates."
      ],
      "metadata": {
        "id": "nRJAAZD0sL3_"
      }
    },
    {
      "cell_type": "markdown",
      "source": [
        "Lets check for any special characters"
      ],
      "metadata": {
        "id": "3VYun8pR2mbc"
      }
    },
    {
      "cell_type": "code",
      "source": [
        "import re\n",
        "pattern = r'[^a-zA-Z0-9\\s]'\n",
        "for col in data.select_dtypes(include=['object']):\n",
        "    special_chars = data[col].str.contains(pattern, na=False)\n",
        "    print(f\"Special characters in column {col}:\\n\", data[special_chars])\n"
      ],
      "metadata": {
        "colab": {
          "base_uri": "https://localhost:8080/",
          "height": 0
        },
        "id": "p8ePfDD-ryED",
        "outputId": "b4ec7075-7679-41ef-ecdd-044dfbd79419"
      },
      "execution_count": 8,
      "outputs": [
        {
          "output_type": "stream",
          "name": "stdout",
          "text": [
            "Special characters in column Name:\n",
            "                                         Name  \\\n",
            "0              AMP IL no E Fee NZ Share (RN)   \n",
            "4   ANZ Default KiwiSaver Scheme Cnsrv(Dflt)   \n",
            "5      ANZ Default KiwiSaver Scheme-Balanced   \n",
            "6   ANZ Default KiwiSaver Scheme-Balanced Gr   \n",
            "7     ANZ Default KiwiSaver Scheme-Cnsrv Bal   \n",
            "8        ANZ Default KiwiSaver Scheme-Growth   \n",
            "9                     ANZ KiwiSaver-Balanced   \n",
            "10             ANZ KiwiSaver-Balanced Growth   \n",
            "11                ANZ KiwiSaver-Conservative   \n",
            "12       ANZ KiwiSaver-Conservative Balanced   \n",
            "13                      ANZ KiwiSaver-Growth   \n",
            "16           ASB KiwiSaver Scheme's Balanced   \n",
            "17    ASB KiwiSaver Scheme's Cnsrv (Default)   \n",
            "18             ASB KiwiSaver Scheme's Growth   \n",
            "19           ASB KiwiSaver Scheme's Moderate   \n",
            "21      BNZ KiwiSaver Conservative (Default)   \n",
            "34      Booster KiwiSaver Trans-Tasman Share   \n",
            "35     FC KiwiSaver Scheme's Active Balanced   \n",
            "36        FC KiwiSaver Scheme's Active Cnsrv   \n",
            "37       FC KiwiSaver Scheme's Active Growth   \n",
            "38   Fidelity KiwiSaver-Aggressive Kiwi Fund   \n",
            "39     Fidelity KiwiSaver-Balanced Kiwi Fund   \n",
            "40           Fidelity KiwiSaver-Ethical Kiwi   \n",
            "41       Fidelity KiwiSaver-Growth Kiwi Fund   \n",
            "50   Mercer KiwiSaver Conservative (Default)   \n",
            "69    OneAnswer KiwiSaver-Australasian Share   \n",
            "\n",
            "                              Firm Name        Branding Name  Holdings  \\\n",
            "0                             AMP Group                  AMP        59   \n",
            "4   ANZ New Zealand Investments Limited                  ANZ      1024   \n",
            "5   ANZ New Zealand Investments Limited                  ANZ      1543   \n",
            "6   ANZ New Zealand Investments Limited                  ANZ      1543   \n",
            "7   ANZ New Zealand Investments Limited                  ANZ      1543   \n",
            "8   ANZ New Zealand Investments Limited                  ANZ      1543   \n",
            "9   ANZ New Zealand Investments Limited                  ANZ      1543   \n",
            "10  ANZ New Zealand Investments Limited                  ANZ      1544   \n",
            "11  ANZ New Zealand Investments Limited                  ANZ      1543   \n",
            "12  ANZ New Zealand Investments Limited                  ANZ      1543   \n",
            "13  ANZ New Zealand Investments Limited                  ANZ      1543   \n",
            "16        ASB Group Investments Limited                  ASB      1320   \n",
            "17        ASB Group Investments Limited                  ASB      1582   \n",
            "18        ASB Group Investments Limited                  ASB       841   \n",
            "19        ASB Group Investments Limited                  ASB      1535   \n",
            "21      BNZ Investment Services Limited  Bank of New Zealand      2458   \n",
            "34   Booster Financial Services Limited            Grosvenor        77   \n",
            "35        ASB Group Investments Limited                  ASB      1237   \n",
            "36        ASB Group Investments Limited                  ASB      1212   \n",
            "37        ASB Group Investments Limited                  ASB      1218   \n",
            "38   Booster Financial Services Limited            Grosvenor        76   \n",
            "39   Booster Financial Services Limited            Grosvenor        75   \n",
            "40   Booster Financial Services Limited            Grosvenor       113   \n",
            "41   Booster Financial Services Limited            Grosvenor        75   \n",
            "50                Mercer (N.Z.) Limited               Mercer      1306   \n",
            "69  ANZ New Zealand Investments Limited                  ANZ       147   \n",
            "\n",
            "                   Global Category  Morningstar Rating     Domicile  \\\n",
            "0               New Zealand Equity                 3.0  New Zealand   \n",
            "4              Cautious Allocation                 4.0  New Zealand   \n",
            "5                       Allocation                 3.0  New Zealand   \n",
            "6            Aggressive Allocation                 3.0  New Zealand   \n",
            "7              Moderate Allocation                 4.0  New Zealand   \n",
            "8            Aggressive Allocation                 5.0  New Zealand   \n",
            "9                       Allocation                 4.0  New Zealand   \n",
            "10           Aggressive Allocation                 4.0  New Zealand   \n",
            "11             Cautious Allocation                 4.0  New Zealand   \n",
            "12             Moderate Allocation                 4.0  New Zealand   \n",
            "13           Aggressive Allocation                 5.0  New Zealand   \n",
            "16                      Allocation                 4.0  New Zealand   \n",
            "17             Cautious Allocation                 3.0  New Zealand   \n",
            "18           Aggressive Allocation                 4.0  New Zealand   \n",
            "19             Moderate Allocation                 4.0  New Zealand   \n",
            "21             Cautious Allocation                 3.0  New Zealand   \n",
            "34  Australia & New Zealand Equity                 1.0  New Zealand   \n",
            "35                      Allocation                 NaN  New Zealand   \n",
            "36             Moderate Allocation                 NaN  New Zealand   \n",
            "37           Aggressive Allocation                 NaN  New Zealand   \n",
            "38           Aggressive Allocation                 NaN  New Zealand   \n",
            "39                      Allocation                 NaN  New Zealand   \n",
            "40                      Allocation                 NaN  New Zealand   \n",
            "41           Aggressive Allocation                 NaN  New Zealand   \n",
            "50             Cautious Allocation                 5.0  New Zealand   \n",
            "69  Australia & New Zealand Equity                 4.0  New Zealand   \n",
            "\n",
            "             Fund Legal Structure  Equity Style Inception Date   Manager Name  \\\n",
            "0   Open Ended Investment Company    Mid Growth      3/02/1993            NaN   \n",
            "4   Open Ended Investment Company    Mid Growth      1/10/2007  Stuart Millar   \n",
            "5   Open Ended Investment Company  Large Growth      1/10/2007  Stuart Millar   \n",
            "6   Open Ended Investment Company  Large Growth      1/10/2007  Stuart Millar   \n",
            "7   Open Ended Investment Company  Large Growth      1/10/2007  Stuart Millar   \n",
            "8   Open Ended Investment Company  Large Growth      1/10/2007  Stuart Millar   \n",
            "9   Open Ended Investment Company  Large Growth      1/10/2007  Stuart Millar   \n",
            "10  Open Ended Investment Company  Large Growth      1/10/2007  Stuart Millar   \n",
            "11  Open Ended Investment Company  Large Growth      1/10/2007  Stuart Millar   \n",
            "12  Open Ended Investment Company  Large Growth      1/10/2007  Stuart Millar   \n",
            "13  Open Ended Investment Company  Large Growth      1/10/2007  Stuart Millar   \n",
            "16  Open Ended Investment Company   Large Blend      1/10/2007     John Smith   \n",
            "17  Open Ended Investment Company   Large Blend      1/10/2007     John Smith   \n",
            "18  Open Ended Investment Company   Large Blend      1/10/2007     John Smith   \n",
            "19  Open Ended Investment Company   Large Blend      1/10/2007     John Smith   \n",
            "21  Open Ended Investment Company   Large Blend     11/02/2013            NaN   \n",
            "34  Open Ended Investment Company   Large Blend     20/05/2010  David Beattie   \n",
            "35  Open Ended Investment Company  Large Growth      1/10/2007            NaN   \n",
            "36  Open Ended Investment Company  Large Growth      1/10/2007            NaN   \n",
            "37  Open Ended Investment Company  Large Growth      1/10/2007            NaN   \n",
            "38  Open Ended Investment Company   Large Blend      1/10/2007            NaN   \n",
            "39  Open Ended Investment Company   Large Blend      1/10/2007            NaN   \n",
            "40  Open Ended Investment Company  Large Growth     14/05/2008            NaN   \n",
            "41  Open Ended Investment Company   Large Blend      1/10/2007            NaN   \n",
            "50  Open Ended Investment Company  Large Growth      1/10/2007            NaN   \n",
            "69  Open Ended Investment Company    Mid Growth      1/10/2007     Mark Brown   \n",
            "\n",
            "    Manager Tenure Net Assets Date  Net Assets Size  Net Assets Share Class  \n",
            "0              NaN             NaN       135202.500               81121.500  \n",
            "4             9.42      15/03/2017       705818.111              423490.867  \n",
            "5             9.42      15/03/2017        60180.495               36108.297  \n",
            "6             9.42      15/03/2017        65818.650               39491.190  \n",
            "7             9.42      15/03/2017        20822.570               12493.542  \n",
            "8             9.42      15/03/2017        54510.663               32706.398  \n",
            "9             9.42      15/03/2017      1115543.339              669326.003  \n",
            "10            9.42      15/03/2017       927431.575              556458.945  \n",
            "11            9.42      15/03/2017       433189.839              259913.903  \n",
            "12            9.42      15/03/2017       525664.141              315398.485  \n",
            "13            9.42      15/03/2017      1469339.561              881603.737  \n",
            "16            9.42      28/02/2017       683803.635              410282.181  \n",
            "17            9.42      28/02/2017      2468879.526             1481327.716  \n",
            "18            9.42      28/02/2017       743789.170              446273.502  \n",
            "19            9.42      28/02/2017       870727.423              522436.454  \n",
            "21             NaN      14/03/2017       257482.696              154489.618  \n",
            "34            6.83      28/02/2017         4180.297                2508.178  \n",
            "35             NaN      31/12/2014         7094.312                4256.587  \n",
            "36             NaN      31/12/2014         1794.037                1076.422  \n",
            "37             NaN      31/12/2014         8047.739                4828.643  \n",
            "38             NaN      31/10/2014        15280.369                9168.221  \n",
            "39             NaN      31/10/2014        94957.184               56974.310  \n",
            "40             NaN      31/10/2014        10302.667                6181.600  \n",
            "41             NaN      31/10/2014        42618.096               25570.858  \n",
            "50             NaN      28/02/2017       749774.754              449864.852  \n",
            "69            9.42      15/03/2017        17059.192               10235.515  \n",
            "Special characters in column Firm Name:\n",
            "                                         Name                Firm Name  \\\n",
            "49                 Mercer KiwiSaver Balanced    Mercer (N.Z.) Limited   \n",
            "50   Mercer KiwiSaver Conservative (Default)    Mercer (N.Z.) Limited   \n",
            "51                   Mercer KiwiSaver Growth    Mercer (N.Z.) Limited   \n",
            "52              Mercer KiwiSaver High Growth    Mercer (N.Z.) Limited   \n",
            "53                 Mercer KiwiSaver Moderate    Mercer (N.Z.) Limited   \n",
            "54   Mercer Super Trust KiwiSaver Active Bal    Mercer (N.Z.) Limited   \n",
            "55      Mercer Super Trust KiwiSaver Conserv    Mercer (N.Z.) Limited   \n",
            "56       Mercer Super Trust KiwiSaver Growth    Mercer (N.Z.) Limited   \n",
            "57  Mercer Super Trust KiwiSaver High Growth    Mercer (N.Z.) Limited   \n",
            "58     Mercer Super Trust KiwiSaver Moderate    Mercer (N.Z.) Limited   \n",
            "59       Mercer Super Trust KiwiSaver Shares    Mercer (N.Z.) Limited   \n",
            "60  Mercer Super Trust KiwiSaver TransTasman    Mercer (N.Z.) Limited   \n",
            "63       NZ Defence Force KiwiSaver Balanced    Mercer (N.Z.) Limited   \n",
            "64   NZ Defence Force KiwiSaver Conservative    Mercer (N.Z.) Limited   \n",
            "65         NZ Defence Force KiwiSaver Growth    Mercer (N.Z.) Limited   \n",
            "66       NZ Defence Force KiwiSaver Moderate    Mercer (N.Z.) Limited   \n",
            "71        Simplicity KiwiSaver Balanced Fund  Simplicity (NZ) Limited   \n",
            "72    Simplicity KiwiSaver Conservative Fund  Simplicity (NZ) Limited   \n",
            "73          Simplicity KiwiSaver Growth Fund  Simplicity (NZ) Limited   \n",
            "\n",
            "    Branding Name  Holdings                 Global Category  \\\n",
            "49         Mercer      1538                      Allocation   \n",
            "50         Mercer      1306             Cautious Allocation   \n",
            "51         Mercer      1602           Aggressive Allocation   \n",
            "52         Mercer      1328           Aggressive Allocation   \n",
            "53         Mercer      1364             Moderate Allocation   \n",
            "54         Mercer      1228           Aggressive Allocation   \n",
            "55         Mercer      1039             Moderate Allocation   \n",
            "56         Mercer      1239           Aggressive Allocation   \n",
            "57         Mercer      1131           Aggressive Allocation   \n",
            "58         Mercer      1213                      Allocation   \n",
            "59         Mercer       862  Australia & New Zealand Equity   \n",
            "60         Mercer        74  Australia & New Zealand Equity   \n",
            "63         Mercer      1538                      Allocation   \n",
            "64         Mercer      1306             Cautious Allocation   \n",
            "65         Mercer      1602           Aggressive Allocation   \n",
            "66         Mercer      1364             Moderate Allocation   \n",
            "71  Simplicity NZ        66                      Allocation   \n",
            "72  Simplicity NZ        31             Cautious Allocation   \n",
            "73  Simplicity NZ        66           Aggressive Allocation   \n",
            "\n",
            "    Morningstar Rating     Domicile           Fund Legal Structure  \\\n",
            "49                 4.0  New Zealand  Open Ended Investment Company   \n",
            "50                 5.0  New Zealand  Open Ended Investment Company   \n",
            "51                 NaN  New Zealand  Open Ended Investment Company   \n",
            "52                 5.0  New Zealand  Open Ended Investment Company   \n",
            "53                 NaN  New Zealand  Open Ended Investment Company   \n",
            "54                 NaN  New Zealand  Open Ended Investment Company   \n",
            "55                 NaN  New Zealand  Open Ended Investment Company   \n",
            "56                 NaN  New Zealand  Open Ended Investment Company   \n",
            "57                 NaN  New Zealand  Open Ended Investment Company   \n",
            "58                 NaN  New Zealand  Open Ended Investment Company   \n",
            "59                 NaN  New Zealand  Open Ended Investment Company   \n",
            "60                 NaN  New Zealand  Open Ended Investment Company   \n",
            "63                 NaN  New Zealand  Open Ended Investment Company   \n",
            "64                 NaN  New Zealand  Open Ended Investment Company   \n",
            "65                 NaN  New Zealand  Open Ended Investment Company   \n",
            "66                 NaN  New Zealand  Open Ended Investment Company   \n",
            "71                 NaN  New Zealand  Open Ended Investment Company   \n",
            "72                 NaN  New Zealand  Open Ended Investment Company   \n",
            "73                 NaN  New Zealand  Open Ended Investment Company   \n",
            "\n",
            "    Equity Style Inception Date            Manager Name  Manager Tenure  \\\n",
            "49  Large Growth      1/10/2007  Phillip Houghton-Brown            4.67   \n",
            "50  Large Growth      1/10/2007                     NaN             NaN   \n",
            "51  Large Growth     18/02/2015  Phillip Houghton-Brown            2.08   \n",
            "52  Large Growth      1/10/2007                     NaN             NaN   \n",
            "53  Large Growth     18/02/2015  Phillip Houghton-Brown            2.08   \n",
            "54   Large Blend      1/10/2007                     NaN             NaN   \n",
            "55   Large Blend      1/10/2007                     NaN             NaN   \n",
            "56   Large Blend      1/10/2007                     NaN             NaN   \n",
            "57  Large Growth      1/10/2007                     NaN             NaN   \n",
            "58   Large Blend      1/10/2007                     NaN             NaN   \n",
            "59  Large Growth      1/10/2007                     NaN             NaN   \n",
            "60    Mid Growth      1/10/2007                     NaN             NaN   \n",
            "63  Large Growth      9/10/2015                     NaN             NaN   \n",
            "64  Large Growth      9/10/2015                     NaN             NaN   \n",
            "65  Large Growth      9/10/2015                     NaN             NaN   \n",
            "66  Large Growth      9/10/2015                     NaN             NaN   \n",
            "71  Large Growth      1/09/2016                     NaN             NaN   \n",
            "72  Large Growth      1/09/2016                     NaN             NaN   \n",
            "73  Large Growth      1/09/2016                     NaN             NaN   \n",
            "\n",
            "   Net Assets Date  Net Assets Size  Net Assets Share Class  \n",
            "49      28/02/2017       204935.285              122961.171  \n",
            "50      28/02/2017       749774.754              449864.852  \n",
            "51      28/02/2017        29364.475               17618.685  \n",
            "52      28/02/2017        82304.615               49382.769  \n",
            "53      28/02/2017        38324.385               22994.631  \n",
            "54      31/05/2015        87240.978               52344.587  \n",
            "55      31/05/2015          633.303                 379.982  \n",
            "56      31/05/2015         6859.595                4115.757  \n",
            "57      31/05/2015         9139.787                5483.872  \n",
            "58      31/05/2015         2240.726                1344.436  \n",
            "59      31/05/2015         5335.246                3201.148  \n",
            "60      31/01/2015         1881.585                1128.951  \n",
            "63      28/02/2017        17475.715               10485.429  \n",
            "64      28/02/2017          916.695                 550.017  \n",
            "65      28/02/2017         4589.997                2753.998  \n",
            "66      28/02/2017         1084.035                 650.421  \n",
            "71      14/03/2017        15381.980                9229.188  \n",
            "72      14/03/2017         3951.668                2371.001  \n",
            "73      14/03/2017        47602.397               28561.438  \n",
            "Special characters in column Branding Name:\n",
            " Empty DataFrame\n",
            "Columns: [Name, Firm Name, Branding Name, Holdings, Global Category, Morningstar Rating, Domicile, Fund Legal Structure, Equity Style, Inception Date, Manager Name, Manager Tenure, Net Assets Date, Net Assets Size, Net Assets Share Class]\n",
            "Index: []\n",
            "Special characters in column Global Category:\n",
            "                                         Name  \\\n",
            "3             AMP Prem PSS OnePath NZ Shares   \n",
            "15                     Aon KiwiSaver Milford   \n",
            "33     Booster KiwiSaver Socially Rsp Inv Gr   \n",
            "34      Booster KiwiSaver Trans-Tasman Share   \n",
            "59       Mercer Super Trust KiwiSaver Shares   \n",
            "60  Mercer Super Trust KiwiSaver TransTasman   \n",
            "69    OneAnswer KiwiSaver-Australasian Share   \n",
            "\n",
            "                              Firm Name Branding Name  Holdings  \\\n",
            "3                             AMP Group           AMP       125   \n",
            "15                  Aon New Zealand Ltd           Aon       384   \n",
            "33   Booster Financial Services Limited     Grosvenor       149   \n",
            "34   Booster Financial Services Limited     Grosvenor        77   \n",
            "59                Mercer (N.Z.) Limited        Mercer       862   \n",
            "60                Mercer (N.Z.) Limited        Mercer        74   \n",
            "69  ANZ New Zealand Investments Limited           ANZ       147   \n",
            "\n",
            "                   Global Category  Morningstar Rating     Domicile  \\\n",
            "3   Australia & New Zealand Equity                 3.0  New Zealand   \n",
            "15  Australia & New Zealand Equity                 4.0  New Zealand   \n",
            "33  Australia & New Zealand Equity                 2.0  New Zealand   \n",
            "34  Australia & New Zealand Equity                 1.0  New Zealand   \n",
            "59  Australia & New Zealand Equity                 NaN  New Zealand   \n",
            "60  Australia & New Zealand Equity                 NaN  New Zealand   \n",
            "69  Australia & New Zealand Equity                 4.0  New Zealand   \n",
            "\n",
            "             Fund Legal Structure  Equity Style Inception Date   Manager Name  \\\n",
            "3   Open Ended Investment Company    Mid Growth      9/08/2004            NaN   \n",
            "15  Open Ended Investment Company    Mid Growth      1/05/2009            NaN   \n",
            "33  Open Ended Investment Company   Large Blend     20/05/2010  David Beattie   \n",
            "34  Open Ended Investment Company   Large Blend     20/05/2010  David Beattie   \n",
            "59  Open Ended Investment Company  Large Growth      1/10/2007            NaN   \n",
            "60  Open Ended Investment Company    Mid Growth      1/10/2007            NaN   \n",
            "69  Open Ended Investment Company    Mid Growth      1/10/2007     Mark Brown   \n",
            "\n",
            "    Manager Tenure Net Assets Date  Net Assets Size  Net Assets Share Class  \n",
            "3              NaN      28/02/2017         3176.420                1905.852  \n",
            "15             NaN      28/02/2017        82200.346               49320.208  \n",
            "33            6.83      28/02/2017        18269.168               10961.501  \n",
            "34            6.83      28/02/2017         4180.297                2508.178  \n",
            "59             NaN      31/05/2015         5335.246                3201.148  \n",
            "60             NaN      31/01/2015         1881.585                1128.951  \n",
            "69            9.42      15/03/2017        17059.192               10235.515  \n",
            "Special characters in column Domicile:\n",
            " Empty DataFrame\n",
            "Columns: [Name, Firm Name, Branding Name, Holdings, Global Category, Morningstar Rating, Domicile, Fund Legal Structure, Equity Style, Inception Date, Manager Name, Manager Tenure, Net Assets Date, Net Assets Size, Net Assets Share Class]\n",
            "Index: []\n",
            "Special characters in column Fund Legal Structure:\n",
            " Empty DataFrame\n",
            "Columns: [Name, Firm Name, Branding Name, Holdings, Global Category, Morningstar Rating, Domicile, Fund Legal Structure, Equity Style, Inception Date, Manager Name, Manager Tenure, Net Assets Date, Net Assets Size, Net Assets Share Class]\n",
            "Index: []\n",
            "Special characters in column Equity Style:\n",
            " Empty DataFrame\n",
            "Columns: [Name, Firm Name, Branding Name, Holdings, Global Category, Morningstar Rating, Domicile, Fund Legal Structure, Equity Style, Inception Date, Manager Name, Manager Tenure, Net Assets Date, Net Assets Size, Net Assets Share Class]\n",
            "Index: []\n",
            "Special characters in column Inception Date:\n",
            "                                         Name  \\\n",
            "0              AMP IL no E Fee NZ Share (RN)   \n",
            "1         AMP KiwiSaver AMP Income Generator   \n",
            "2            AMP KiwiSaver ANZ Balanced Plus   \n",
            "3             AMP Prem PSS OnePath NZ Shares   \n",
            "4   ANZ Default KiwiSaver Scheme Cnsrv(Dflt)   \n",
            "..                                       ...   \n",
            "71        Simplicity KiwiSaver Balanced Fund   \n",
            "72    Simplicity KiwiSaver Conservative Fund   \n",
            "73          Simplicity KiwiSaver Growth Fund   \n",
            "74         Staples Rodway KiwiSaver Balanced   \n",
            "75           Staples Rodway KiwiSaver Growth   \n",
            "\n",
            "                                Firm Name   Branding Name  Holdings  \\\n",
            "0                               AMP Group             AMP        59   \n",
            "1                               AMP Group             AMP       689   \n",
            "2                               AMP Group             AMP      1544   \n",
            "3                               AMP Group             AMP       125   \n",
            "4     ANZ New Zealand Investments Limited             ANZ      1024   \n",
            "..                                    ...             ...       ...   \n",
            "71                Simplicity (NZ) Limited   Simplicity NZ        66   \n",
            "72                Simplicity (NZ) Limited   Simplicity NZ        31   \n",
            "73                Simplicity (NZ) Limited   Simplicity NZ        66   \n",
            "74  Staples Rodway Superannuation Limited  Staples Rodway      1361   \n",
            "75  Staples Rodway Superannuation Limited  Staples Rodway       873   \n",
            "\n",
            "                   Global Category  Morningstar Rating     Domicile  \\\n",
            "0               New Zealand Equity                 3.0  New Zealand   \n",
            "1              Moderate Allocation                 NaN  New Zealand   \n",
            "2            Aggressive Allocation                 3.0  New Zealand   \n",
            "3   Australia & New Zealand Equity                 3.0  New Zealand   \n",
            "4              Cautious Allocation                 4.0  New Zealand   \n",
            "..                             ...                 ...          ...   \n",
            "71                      Allocation                 NaN  New Zealand   \n",
            "72             Cautious Allocation                 NaN  New Zealand   \n",
            "73           Aggressive Allocation                 NaN  New Zealand   \n",
            "74           Aggressive Allocation                 NaN  New Zealand   \n",
            "75           Aggressive Allocation                 NaN  New Zealand   \n",
            "\n",
            "             Fund Legal Structure  Equity Style Inception Date   Manager Name  \\\n",
            "0   Open Ended Investment Company    Mid Growth      3/02/1993            NaN   \n",
            "1   Open Ended Investment Company     Mid Blend     28/07/2016            NaN   \n",
            "2   Open Ended Investment Company  Large Growth      1/10/2007            NaN   \n",
            "3   Open Ended Investment Company    Mid Growth      9/08/2004            NaN   \n",
            "4   Open Ended Investment Company    Mid Growth      1/10/2007  Stuart Millar   \n",
            "..                            ...           ...            ...            ...   \n",
            "71  Open Ended Investment Company  Large Growth      1/09/2016            NaN   \n",
            "72  Open Ended Investment Company  Large Growth      1/09/2016            NaN   \n",
            "73  Open Ended Investment Company  Large Growth      1/09/2016            NaN   \n",
            "74  Open Ended Investment Company  Large Growth      1/10/2007            NaN   \n",
            "75  Open Ended Investment Company   Large Blend      1/10/2007            NaN   \n",
            "\n",
            "    Manager Tenure Net Assets Date  Net Assets Size  Net Assets Share Class  \n",
            "0              NaN             NaN       135202.500               81121.500  \n",
            "1              NaN      28/02/2017          861.923                 517.154  \n",
            "2              NaN      28/02/2017       146665.955               87999.573  \n",
            "3              NaN      28/02/2017         3176.420                1905.852  \n",
            "4             9.42      15/03/2017       705818.111              423490.867  \n",
            "..             ...             ...              ...                     ...  \n",
            "71             NaN      14/03/2017        15381.980                9229.188  \n",
            "72             NaN      14/03/2017         3951.668                2371.001  \n",
            "73             NaN      14/03/2017        47602.397               28561.438  \n",
            "74             NaN      29/02/2016        15219.139                9131.483  \n",
            "75             NaN      29/02/2016         7621.845                4573.107  \n",
            "\n",
            "[76 rows x 15 columns]\n",
            "Special characters in column Manager Name:\n",
            "                                  Name                            Firm Name  \\\n",
            "25         Booster KiwiSaver Balanced   Booster Financial Services Limited   \n",
            "26  Booster KiwiSaver Balanced Growth   Booster Financial Services Limited   \n",
            "28    Booster KiwiSaver Default Saver   Booster Financial Services Limited   \n",
            "30      Booster KiwiSaver High Growth   Booster Financial Services Limited   \n",
            "31         Booster KiwiSaver Moderate   Booster Financial Services Limited   \n",
            "49          Mercer KiwiSaver Balanced                Mercer (N.Z.) Limited   \n",
            "51            Mercer KiwiSaver Growth                Mercer (N.Z.) Limited   \n",
            "53          Mercer KiwiSaver Moderate                Mercer (N.Z.) Limited   \n",
            "70                       SIL NZ Share  ANZ New Zealand Investments Limited   \n",
            "\n",
            "   Branding Name  Holdings        Global Category  Morningstar Rating  \\\n",
            "25     Grosvenor       174             Allocation                 3.0   \n",
            "26     Grosvenor       174  Aggressive Allocation                 2.0   \n",
            "28     Grosvenor       159    Cautious Allocation                 NaN   \n",
            "30     Grosvenor       174  Aggressive Allocation                 3.0   \n",
            "31     Grosvenor       173    Moderate Allocation                 3.0   \n",
            "49        Mercer      1538             Allocation                 4.0   \n",
            "51        Mercer      1602  Aggressive Allocation                 NaN   \n",
            "53        Mercer      1364    Moderate Allocation                 NaN   \n",
            "70           ANZ       145     New Zealand Equity                 NaN   \n",
            "\n",
            "       Domicile           Fund Legal Structure  Equity Style Inception Date  \\\n",
            "25  New Zealand  Open Ended Investment Company   Large Blend      1/10/2007   \n",
            "26  New Zealand  Open Ended Investment Company   Large Blend     20/05/2010   \n",
            "28  New Zealand  Open Ended Investment Company   Large Blend      1/07/2014   \n",
            "30  New Zealand  Open Ended Investment Company   Large Blend      1/10/2007   \n",
            "31  New Zealand  Open Ended Investment Company   Large Blend      1/10/2007   \n",
            "49  New Zealand  Open Ended Investment Company  Large Growth      1/10/2007   \n",
            "51  New Zealand  Open Ended Investment Company  Large Growth     18/02/2015   \n",
            "53  New Zealand  Open Ended Investment Company  Large Growth     18/02/2015   \n",
            "70  New Zealand  Open Ended Investment Company    Mid Growth      1/03/1992   \n",
            "\n",
            "                 Manager Name  Manager Tenure Net Assets Date  \\\n",
            "25  David Beattie;Nic Craven;            9.42      28/02/2017   \n",
            "26  David Beattie;Nic Craven;            6.83      28/02/2017   \n",
            "28  David Beattie;Nic Craven;            2.67      28/02/2017   \n",
            "30  David Beattie;Nic Craven;            9.42      28/02/2017   \n",
            "31  David Beattie;Nic Craven;            9.42      28/02/2017   \n",
            "49     Phillip Houghton-Brown            4.67      28/02/2017   \n",
            "51     Phillip Houghton-Brown            2.08      28/02/2017   \n",
            "53     Phillip Houghton-Brown            2.08      28/02/2017   \n",
            "70    Mark Brown;Craig Brown;           11.25      31/10/2016   \n",
            "\n",
            "    Net Assets Size  Net Assets Share Class  \n",
            "25       255432.126              153259.276  \n",
            "26       140261.169               84156.701  \n",
            "28        23651.194               14190.716  \n",
            "30       118527.836               71116.702  \n",
            "31        92511.222               55506.733  \n",
            "49       204935.285              122961.171  \n",
            "51        29364.475               17618.685  \n",
            "53        38324.385               22994.631  \n",
            "70        15396.723                9238.034  \n",
            "Special characters in column Net Assets Date:\n",
            "                                         Name  \\\n",
            "1         AMP KiwiSaver AMP Income Generator   \n",
            "2            AMP KiwiSaver ANZ Balanced Plus   \n",
            "3             AMP Prem PSS OnePath NZ Shares   \n",
            "4   ANZ Default KiwiSaver Scheme Cnsrv(Dflt)   \n",
            "5      ANZ Default KiwiSaver Scheme-Balanced   \n",
            "..                                       ...   \n",
            "71        Simplicity KiwiSaver Balanced Fund   \n",
            "72    Simplicity KiwiSaver Conservative Fund   \n",
            "73          Simplicity KiwiSaver Growth Fund   \n",
            "74         Staples Rodway KiwiSaver Balanced   \n",
            "75           Staples Rodway KiwiSaver Growth   \n",
            "\n",
            "                                Firm Name   Branding Name  Holdings  \\\n",
            "1                               AMP Group             AMP       689   \n",
            "2                               AMP Group             AMP      1544   \n",
            "3                               AMP Group             AMP       125   \n",
            "4     ANZ New Zealand Investments Limited             ANZ      1024   \n",
            "5     ANZ New Zealand Investments Limited             ANZ      1543   \n",
            "..                                    ...             ...       ...   \n",
            "71                Simplicity (NZ) Limited   Simplicity NZ        66   \n",
            "72                Simplicity (NZ) Limited   Simplicity NZ        31   \n",
            "73                Simplicity (NZ) Limited   Simplicity NZ        66   \n",
            "74  Staples Rodway Superannuation Limited  Staples Rodway      1361   \n",
            "75  Staples Rodway Superannuation Limited  Staples Rodway       873   \n",
            "\n",
            "                   Global Category  Morningstar Rating     Domicile  \\\n",
            "1              Moderate Allocation                 NaN  New Zealand   \n",
            "2            Aggressive Allocation                 3.0  New Zealand   \n",
            "3   Australia & New Zealand Equity                 3.0  New Zealand   \n",
            "4              Cautious Allocation                 4.0  New Zealand   \n",
            "5                       Allocation                 3.0  New Zealand   \n",
            "..                             ...                 ...          ...   \n",
            "71                      Allocation                 NaN  New Zealand   \n",
            "72             Cautious Allocation                 NaN  New Zealand   \n",
            "73           Aggressive Allocation                 NaN  New Zealand   \n",
            "74           Aggressive Allocation                 NaN  New Zealand   \n",
            "75           Aggressive Allocation                 NaN  New Zealand   \n",
            "\n",
            "             Fund Legal Structure  Equity Style Inception Date   Manager Name  \\\n",
            "1   Open Ended Investment Company     Mid Blend     28/07/2016            NaN   \n",
            "2   Open Ended Investment Company  Large Growth      1/10/2007            NaN   \n",
            "3   Open Ended Investment Company    Mid Growth      9/08/2004            NaN   \n",
            "4   Open Ended Investment Company    Mid Growth      1/10/2007  Stuart Millar   \n",
            "5   Open Ended Investment Company  Large Growth      1/10/2007  Stuart Millar   \n",
            "..                            ...           ...            ...            ...   \n",
            "71  Open Ended Investment Company  Large Growth      1/09/2016            NaN   \n",
            "72  Open Ended Investment Company  Large Growth      1/09/2016            NaN   \n",
            "73  Open Ended Investment Company  Large Growth      1/09/2016            NaN   \n",
            "74  Open Ended Investment Company  Large Growth      1/10/2007            NaN   \n",
            "75  Open Ended Investment Company   Large Blend      1/10/2007            NaN   \n",
            "\n",
            "    Manager Tenure Net Assets Date  Net Assets Size  Net Assets Share Class  \n",
            "1              NaN      28/02/2017          861.923                 517.154  \n",
            "2              NaN      28/02/2017       146665.955               87999.573  \n",
            "3              NaN      28/02/2017         3176.420                1905.852  \n",
            "4             9.42      15/03/2017       705818.111              423490.867  \n",
            "5             9.42      15/03/2017        60180.495               36108.297  \n",
            "..             ...             ...              ...                     ...  \n",
            "71             NaN      14/03/2017        15381.980                9229.188  \n",
            "72             NaN      14/03/2017         3951.668                2371.001  \n",
            "73             NaN      14/03/2017        47602.397               28561.438  \n",
            "74             NaN      29/02/2016        15219.139                9131.483  \n",
            "75             NaN      29/02/2016         7621.845                4573.107  \n",
            "\n",
            "[75 rows x 15 columns]\n"
          ]
        }
      ]
    },
    {
      "cell_type": "markdown",
      "source": [
        "Task 1 answer: This dataset has issues of  missing values, inconsistent data types, hidden characters or spaces."
      ],
      "metadata": {
        "id": "OQw3sx3Wqxf2"
      }
    },
    {
      "cell_type": "markdown",
      "source": [
        "**Task 2: You must have noticed we have some data with missing \"Morningstar Ratings\", createa method and figure out a way to imputate the missing data**"
      ],
      "metadata": {
        "id": "-2proHyusZ1H"
      }
    },
    {
      "cell_type": "markdown",
      "source": [],
      "metadata": {
        "id": "Ng5Ea1OgsfT6"
      }
    },
    {
      "cell_type": "code",
      "source": [
        "def impute_rating(row):\n",
        "    if pd.isnull(row[\"Morningstar Rating\"]):\n",
        "        mode_rating = data[data[\"Equity Style\"] == row[\"Equity Style\"]][\"Morningstar Rating\"].mode()\n",
        "        return mode_rating[0] if not mode_rating.empty else row[\"Morningstar Rating\"]\n",
        "    else:\n",
        "        return row[\"Morningstar Rating\"]\n",
        "\n",
        "data[\"Morningstar Rating\"] = data.apply(impute_rating, axis=1)\n",
        "\n",
        "overall_mode_rating = data[\"Morningstar Rating\"].mode()[0]\n",
        "data[\"Morningstar Rating\"].fillna(overall_mode_rating, inplace=True)\n",
        "\n",
        "print(data[\"Morningstar Rating\"].isnull().sum())\n"
      ],
      "metadata": {
        "colab": {
          "base_uri": "https://localhost:8080/",
          "height": 0
        },
        "id": "Z0jcldhaseDt",
        "outputId": "a93e1723-5f32-47a9-b784-d6cfb6b16b55"
      },
      "execution_count": 9,
      "outputs": [
        {
          "output_type": "stream",
          "name": "stdout",
          "text": [
            "0\n"
          ]
        },
        {
          "output_type": "stream",
          "name": "stderr",
          "text": [
            "<ipython-input-9-be26a24a86b5>:11: FutureWarning: A value is trying to be set on a copy of a DataFrame or Series through chained assignment using an inplace method.\n",
            "The behavior will change in pandas 3.0. This inplace method will never work because the intermediate object on which we are setting values always behaves as a copy.\n",
            "\n",
            "For example, when doing 'df[col].method(value, inplace=True)', try using 'df.method({col: value}, inplace=True)' or df[col] = df[col].method(value) instead, to perform the operation inplace on the original object.\n",
            "\n",
            "\n",
            "  data[\"Morningstar Rating\"].fillna(overall_mode_rating, inplace=True)\n"
          ]
        }
      ]
    },
    {
      "cell_type": "markdown",
      "source": [
        "Lets see if we have perfomed task 2 successfully"
      ],
      "metadata": {
        "id": "U1v6rR_Pt8GF"
      }
    },
    {
      "cell_type": "code",
      "source": [
        "# Check if there are any missing values left in \"Morningstar Rating\"\n",
        "missing_ratings = data[\"Morningstar Rating\"].isnull().sum()\n",
        "print(\"Number of missing values in 'Morningstar Rating':\", missing_ratings)\n"
      ],
      "metadata": {
        "colab": {
          "base_uri": "https://localhost:8080/",
          "height": 0
        },
        "id": "YjDgEDr2uBoi",
        "outputId": "70be7e77-978a-430b-fd36-c86c94f2a8eb"
      },
      "execution_count": 11,
      "outputs": [
        {
          "output_type": "stream",
          "name": "stdout",
          "text": [
            "Number of missing values in 'Morningstar Rating': 0\n"
          ]
        }
      ]
    },
    {
      "cell_type": "markdown",
      "source": [
        "Lets see the Morningstar Ratings now:"
      ],
      "metadata": {
        "id": "0YIreCg3ukNr"
      }
    },
    {
      "cell_type": "code",
      "source": [
        "print(data[[\"Equity Style\", \"Morningstar Rating\"]].head(10))  # Adjust as needed to see more rows"
      ],
      "metadata": {
        "colab": {
          "base_uri": "https://localhost:8080/",
          "height": 0
        },
        "id": "HlWC6NeruhH1",
        "outputId": "4ece8686-46f4-43cd-a508-65ff722c89bb"
      },
      "execution_count": 12,
      "outputs": [
        {
          "output_type": "stream",
          "name": "stdout",
          "text": [
            "   Equity Style  Morningstar Rating\n",
            "0    Mid Growth                 3.0\n",
            "1     Mid Blend                 4.0\n",
            "2  Large Growth                 3.0\n",
            "3    Mid Growth                 3.0\n",
            "4    Mid Growth                 4.0\n",
            "5  Large Growth                 3.0\n",
            "6  Large Growth                 3.0\n",
            "7  Large Growth                 4.0\n",
            "8  Large Growth                 5.0\n",
            "9  Large Growth                 4.0\n"
          ]
        }
      ]
    },
    {
      "cell_type": "markdown",
      "source": [
        "**Task 3: List all the unique \"Equity Style\"? What are the two most used and least used Equity Style?**"
      ],
      "metadata": {
        "id": "LT8ATIx5u4Qk"
      }
    },
    {
      "cell_type": "markdown",
      "source": [
        "To list unique equity style values:"
      ],
      "metadata": {
        "id": "sfVXzKOWvNA_"
      }
    },
    {
      "cell_type": "code",
      "source": [
        "unique_equity_styles = data[\"Equity Style\"].unique()\n",
        "print(\"Unique Equity Styles:\", unique_equity_styles)"
      ],
      "metadata": {
        "colab": {
          "base_uri": "https://localhost:8080/",
          "height": 0
        },
        "id": "fdBs1mk0uqzo",
        "outputId": "4fe0dead-f4d0-4668-8923-1cdf27d4569b"
      },
      "execution_count": 13,
      "outputs": [
        {
          "output_type": "stream",
          "name": "stdout",
          "text": [
            "Unique Equity Styles: ['Mid Growth' 'Mid Blend' 'Large Growth' 'Large Blend' 'Mid Value']\n"
          ]
        }
      ]
    },
    {
      "cell_type": "code",
      "source": [
        "# 2. Count occurrences of each \"Equity Style\"\n",
        "equity_style_counts = data[\"Equity Style\"].value_counts()\n"
      ],
      "metadata": {
        "id": "fY6A0D9uvFpL"
      },
      "execution_count": 14,
      "outputs": []
    },
    {
      "cell_type": "markdown",
      "source": [
        "Lets see most used styles:"
      ],
      "metadata": {
        "id": "vF47xg0HvstT"
      }
    },
    {
      "cell_type": "code",
      "source": [
        "most_used_styles = equity_style_counts.head(2)\n",
        "print(\"Most used Equity Styles:\\n\", most_used_styles)"
      ],
      "metadata": {
        "colab": {
          "base_uri": "https://localhost:8080/",
          "height": 0
        },
        "id": "KWcfSSHAvVdt",
        "outputId": "f585dfd9-abb7-4168-928c-e85568c2e7eb"
      },
      "execution_count": 17,
      "outputs": [
        {
          "output_type": "stream",
          "name": "stdout",
          "text": [
            "Most used Equity Styles:\n",
            " Equity Style\n",
            "Large Growth    33\n",
            "Large Blend     28\n",
            "Name: count, dtype: int64\n"
          ]
        }
      ]
    },
    {
      "cell_type": "markdown",
      "source": [
        "Lets see the least used Equity Styles (bottom 2):"
      ],
      "metadata": {
        "id": "ICqcxTUCvfow"
      }
    },
    {
      "cell_type": "code",
      "source": [
        "least_used_styles = equity_style_counts.tail(2)\n",
        "print(\"Least used Equity Styles:\\n\", least_used_styles)"
      ],
      "metadata": {
        "colab": {
          "base_uri": "https://localhost:8080/",
          "height": 0
        },
        "id": "kXiZ2-e4vjA9",
        "outputId": "4fe58e73-1c58-430b-869d-c9ada8a242df"
      },
      "execution_count": 16,
      "outputs": [
        {
          "output_type": "stream",
          "name": "stdout",
          "text": [
            "Least used Equity Styles:\n",
            " Equity Style\n",
            "Mid Blend    3\n",
            "Mid Value    2\n",
            "Name: count, dtype: int64\n"
          ]
        }
      ]
    },
    {
      "cell_type": "markdown",
      "source": [
        "**Task 4:Mapping your data: Figure out a way to map the values of \"Morningstar Rating\" form [5,4,3,2,1] to ['Awsome','Good','Average','bad','Awful']**"
      ],
      "metadata": {
        "id": "UpWTJYT8wDwy"
      }
    },
    {
      "cell_type": "code",
      "source": [
        "rating_mapping = {5: 'Awesome', 4: 'Good', 3: 'Average', 2: 'Bad', 1: 'Awful'}"
      ],
      "metadata": {
        "id": "GL9T_lcHv6Yn"
      },
      "execution_count": 19,
      "outputs": []
    },
    {
      "cell_type": "markdown",
      "source": [
        "Lets apply the mapping to the \"Morningstar Rating\" column"
      ],
      "metadata": {
        "id": "Vy0WFZkJwW0m"
      }
    },
    {
      "cell_type": "code",
      "source": [
        "data[\"Morningstar Rating Label\"] = data[\"Morningstar Rating\"].map(rating_mapping)"
      ],
      "metadata": {
        "id": "lHKIn8XQwbrG"
      },
      "execution_count": 20,
      "outputs": []
    },
    {
      "cell_type": "markdown",
      "source": [
        "Lets display updated form:"
      ],
      "metadata": {
        "id": "KPE_gmrrwrN7"
      }
    },
    {
      "cell_type": "code",
      "source": [
        "print(data[[\"Morningstar Rating\", \"Morningstar Rating Label\"]].head(10))"
      ],
      "metadata": {
        "colab": {
          "base_uri": "https://localhost:8080/",
          "height": 0
        },
        "id": "xWnabZf7wkVB",
        "outputId": "38d8c31d-0ee6-4cc3-b1a8-b58e3adb3df9"
      },
      "execution_count": 22,
      "outputs": [
        {
          "output_type": "stream",
          "name": "stdout",
          "text": [
            "   Morningstar Rating Morningstar Rating Label\n",
            "0                 3.0                  Average\n",
            "1                 4.0                     Good\n",
            "2                 3.0                  Average\n",
            "3                 3.0                  Average\n",
            "4                 4.0                     Good\n",
            "5                 3.0                  Average\n",
            "6                 3.0                  Average\n",
            "7                 4.0                     Good\n",
            "8                 5.0                  Awesome\n",
            "9                 4.0                     Good\n"
          ]
        }
      ]
    },
    {
      "cell_type": "markdown",
      "source": [
        "**Task 5: Data Aggregation using GroupBy. Using the datafile \"Kiwisaver_sample_wk9.csv\", group the Funds based on Branding Name and Equity Style. Report the average Holdings and Net Assets Size of the groups that you just created.**"
      ],
      "metadata": {
        "id": "fXH78A5Bw8Lz"
      }
    },
    {
      "cell_type": "markdown",
      "source": [
        "Lets group by branding name and equity style:"
      ],
      "metadata": {
        "id": "remhYSgzxRjM"
      }
    },
    {
      "cell_type": "code",
      "source": [
        "grouped_data = data.groupby([\"Branding Name\", \"Equity Style\"])"
      ],
      "metadata": {
        "id": "mHTpHJKxxBeV"
      },
      "execution_count": 23,
      "outputs": []
    },
    {
      "cell_type": "markdown",
      "source": [
        "Lets find mean for holdings and net asset size:"
      ],
      "metadata": {
        "id": "v0gaIcNnxnpn"
      }
    },
    {
      "cell_type": "code",
      "source": [
        "aggregated_means = grouped_data[[\"Holdings\", \"Net Assets Size\"]].mean()"
      ],
      "metadata": {
        "id": "tNyARkDIxgq1"
      },
      "execution_count": 24,
      "outputs": []
    },
    {
      "cell_type": "markdown",
      "source": [
        "Display the data now:"
      ],
      "metadata": {
        "id": "ILVwZhJFxykR"
      }
    },
    {
      "cell_type": "code",
      "source": [
        "print(aggregated_means)"
      ],
      "metadata": {
        "colab": {
          "base_uri": "https://localhost:8080/",
          "height": 0
        },
        "id": "eg2vPeZaxupa",
        "outputId": "e6d784ad-0ed8-407a-817d-dfafe0c54809"
      },
      "execution_count": 25,
      "outputs": [
        {
          "output_type": "stream",
          "name": "stdout",
          "text": [
            "                                     Holdings  Net Assets Size\n",
            "Branding Name       Equity Style                              \n",
            "AMP                 Large Growth  1544.000000     1.466660e+05\n",
            "                    Mid Blend      689.000000     8.619230e+02\n",
            "                    Mid Growth      92.000000     6.918946e+04\n",
            "ANZ                 Large Growth  1543.111111     5.191668e+05\n",
            "                    Mid Growth     438.666667     2.460913e+05\n",
            "ASB                 Large Blend   1319.500000     1.191800e+06\n",
            "                    Large Growth  1222.333333     5.645363e+03\n",
            "Aon                 Large Blend    265.000000     1.911613e+04\n",
            "                    Mid Growth     384.000000     8.220035e+04\n",
            "Bank of New Zealand Large Blend   2456.800000     1.425594e+05\n",
            "Fisher Funds        Large Growth   209.500000     6.073430e+05\n",
            "Forsyth Barr        Large Growth   153.000000     1.142776e+04\n",
            "Generate            Mid Blend       56.000000     1.074962e+05\n",
            "                    Mid Growth     108.000000     5.560979e+04\n",
            "Grosvenor           Large Blend    132.307692     6.634276e+04\n",
            "                    Large Growth   113.000000     1.030267e+04\n",
            "Mercer              Large Blend   1179.750000     2.424365e+04\n",
            "                    Large Growth  1358.272727     1.039314e+05\n",
            "                    Mid Growth      74.000000     1.881585e+03\n",
            "Milford Funds       Mid Growth     429.000000     5.880018e+04\n",
            "New Zealand Funds   Mid Value      183.500000     5.230530e+04\n",
            "Simplicity NZ       Large Growth    54.333333     2.231201e+04\n",
            "Staples Rodway      Large Blend    873.000000     7.621845e+03\n",
            "                    Large Growth  1361.000000     1.521914e+04\n"
          ]
        }
      ]
    },
    {
      "cell_type": "markdown",
      "source": [
        "Now lets display the complete updated file now:"
      ],
      "metadata": {
        "id": "yhDdr89Lx7Qj"
      }
    },
    {
      "cell_type": "code",
      "source": [
        "print(data.head())"
      ],
      "metadata": {
        "colab": {
          "base_uri": "https://localhost:8080/",
          "height": 0
        },
        "id": "ulpae6l2yLty",
        "outputId": "fc6f57c0-893c-4aee-f3ca-f77b25321590"
      },
      "execution_count": 26,
      "outputs": [
        {
          "output_type": "stream",
          "name": "stdout",
          "text": [
            "                                       Name  \\\n",
            "0             AMP IL no E Fee NZ Share (RN)   \n",
            "1        AMP KiwiSaver AMP Income Generator   \n",
            "2           AMP KiwiSaver ANZ Balanced Plus   \n",
            "3            AMP Prem PSS OnePath NZ Shares   \n",
            "4  ANZ Default KiwiSaver Scheme Cnsrv(Dflt)   \n",
            "\n",
            "                             Firm Name Branding Name  Holdings  \\\n",
            "0                            AMP Group           AMP        59   \n",
            "1                            AMP Group           AMP       689   \n",
            "2                            AMP Group           AMP      1544   \n",
            "3                            AMP Group           AMP       125   \n",
            "4  ANZ New Zealand Investments Limited           ANZ      1024   \n",
            "\n",
            "                  Global Category  Morningstar Rating     Domicile  \\\n",
            "0              New Zealand Equity                 3.0  New Zealand   \n",
            "1             Moderate Allocation                 4.0  New Zealand   \n",
            "2           Aggressive Allocation                 3.0  New Zealand   \n",
            "3  Australia & New Zealand Equity                 3.0  New Zealand   \n",
            "4             Cautious Allocation                 4.0  New Zealand   \n",
            "\n",
            "            Fund Legal Structure  Equity Style Inception Date   Manager Name  \\\n",
            "0  Open Ended Investment Company    Mid Growth      3/02/1993            NaN   \n",
            "1  Open Ended Investment Company     Mid Blend     28/07/2016            NaN   \n",
            "2  Open Ended Investment Company  Large Growth      1/10/2007            NaN   \n",
            "3  Open Ended Investment Company    Mid Growth      9/08/2004            NaN   \n",
            "4  Open Ended Investment Company    Mid Growth      1/10/2007  Stuart Millar   \n",
            "\n",
            "   Manager Tenure Net Assets Date  Net Assets Size  Net Assets Share Class  \\\n",
            "0             NaN             NaN       135202.500               81121.500   \n",
            "1             NaN      28/02/2017          861.923                 517.154   \n",
            "2             NaN      28/02/2017       146665.955               87999.573   \n",
            "3             NaN      28/02/2017         3176.420                1905.852   \n",
            "4            9.42      15/03/2017       705818.111              423490.867   \n",
            "\n",
            "  Morningstar Rating Label  \n",
            "0                  Average  \n",
            "1                     Good  \n",
            "2                  Average  \n",
            "3                  Average  \n",
            "4                     Good  \n"
          ]
        }
      ]
    }
  ]
}